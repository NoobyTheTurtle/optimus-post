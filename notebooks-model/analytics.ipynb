{
 "cells": [
  {
   "cell_type": "code",
   "execution_count": null,
   "metadata": {},
   "outputs": [],
   "source": [
    "import copy\n",
    "import json\n",
    "import math\n",
    "import warnings\n",
    "from bisect import bisect_left\n",
    "from collections import Counter\n",
    "\n",
    "import numpy as np\n",
    "import pandas as pd\n",
    "import pandas.io.sql as psql\n",
    "import psycopg2 as pg\n",
    "from sqlalchemy import create_engine\n",
    "\n",
    "warnings.filterwarnings('ignore')"
   ]
  },
  {
   "cell_type": "code",
   "execution_count": 290,
   "metadata": {},
   "outputs": [],
   "source": [
    "engine = create_engine('postgresql://user@localhost:5432/mydb')\n",
    "connection = pg.connect(\"host=188.72.109.162 dbname=optimus_post_db user=reader password=aboba\")\n",
    "cursor = connection.cursor()"
   ]
  },
  {
   "cell_type": "code",
   "execution_count": 291,
   "metadata": {},
   "outputs": [
    {
     "name": "stdout",
     "output_type": "stream",
     "text": [
      "('schema_migrations',)\n",
      "('ar_internal_metadata',)\n",
      "('active_storage_blobs',)\n",
      "('active_storage_attachments',)\n",
      "('mos_kiosks',)\n",
      "('mos_shopping_facilities',)\n",
      "('mos_multifunctional_centers',)\n",
      "('mos_libraries',)\n",
      "('mos_culture_houses',)\n",
      "('mos_datasets',)\n",
      "('vacuum_cleaner_statuses',)\n",
      "('houses',)\n",
      "('mos_rows',)\n",
      "('mos_sports_facilities',)\n",
      "('areas',)\n",
      "('districts',)\n",
      "('active_storage_variant_records',)\n",
      "('automatic_post_offices',)\n",
      "('placement_object_types',)\n"
     ]
    }
   ],
   "source": [
    "cursor.execute(\"\"\"\n",
    "    SELECT table_name FROM information_schema.tables\n",
    "    WHERE table_schema = 'public'\n",
    "\"\"\")\n",
    "for table in cursor.fetchall():\n",
    "    print(table)"
   ]
  },
  {
   "cell_type": "code",
   "execution_count": null,
   "metadata": {},
   "outputs": [],
   "source": [
    "kioskDf = psql.read_sql('SELECT * FROM mos_kiosks', connection)"
   ]
  },
  {
   "cell_type": "code",
   "execution_count": null,
   "metadata": {},
   "outputs": [],
   "source": [
    "shoppingDf = psql.read_sql('SELECT * FROM mos_shopping_facilities', connection)"
   ]
  },
  {
   "cell_type": "code",
   "execution_count": null,
   "metadata": {},
   "outputs": [],
   "source": [
    "mfcDf = psql.read_sql('SELECT * FROM mos_multifunctional_centers', connection)"
   ]
  },
  {
   "cell_type": "code",
   "execution_count": null,
   "metadata": {},
   "outputs": [],
   "source": [
    "librariesDf = psql.read_sql('SELECT * FROM mos_libraries', connection)"
   ]
  },
  {
   "cell_type": "code",
   "execution_count": null,
   "metadata": {},
   "outputs": [],
   "source": [
    "cultureDf = psql.read_sql('SELECT * FROM mos_culture_houses', connection)"
   ]
  },
  {
   "cell_type": "code",
   "execution_count": null,
   "metadata": {},
   "outputs": [],
   "source": [
    "sportsDf = psql.read_sql('SELECT * FROM mos_sports_facilities', connection)"
   ]
  },
  {
   "cell_type": "code",
   "execution_count": null,
   "metadata": {},
   "outputs": [
    {
     "name": "stdout",
     "output_type": "stream",
     "text": [
      "(1815, 21)\n",
      "(2515, 22)\n",
      "(139, 21)\n",
      "(270, 20)\n",
      "(78, 17)\n",
      "(346, 17)\n"
     ]
    }
   ],
   "source": [
    "print(kioskDf.shape)\n",
    "print(shoppingDf.shape)\n",
    "print(mfcDf.shape)\n",
    "print(librariesDf.shape)\n",
    "print(cultureDf.shape)\n",
    "print(sportsDf.shape)"
   ]
  },
  {
   "cell_type": "code",
   "execution_count": null,
   "metadata": {},
   "outputs": [],
   "source": [
    "datasetsDf = psql.read_sql('SELECT * FROM mos_datasets', connection)"
   ]
  },
  {
   "cell_type": "code",
   "execution_count": null,
   "metadata": {},
   "outputs": [],
   "source": [
    "housesDf = psql.read_sql('SELECT * FROM houses', connection)"
   ]
  },
  {
   "cell_type": "code",
   "execution_count": null,
   "metadata": {},
   "outputs": [
    {
     "name": "stdout",
     "output_type": "stream",
     "text": [
      "33398\n",
      "32153\n"
     ]
    }
   ],
   "source": [
    "from sklearn.linear_model import LinearRegression\n",
    "# from sklearn.preprocessing import PolynomialFeatures\n",
    "\n",
    "print(len(housesDf))\n",
    "df_houses = housesDf.fillna(0).groupby('address').agg({'id': min, 'square': max, 'year': max, 'floors': max, 'entrances': max, 'rooms': max}).reset_index().sort_values('id').set_index('id')\n",
    "print(len(df_houses))\n",
    "# df_houses.isna().sum()\n",
    "# print(len(df_houses), len(df_houses[df_houses['square'] < 1]), len(df_houses[df_houses['floors'] < 1]), len(df_houses[df_houses['entrances'] < 1]), len(df_houses[df_houses['rooms'] < 1]))\n",
    "# df_houses[((df_houses['square'] > 0) & (df_houses['floors'] > 0) & (df_houses['year'] > 0)) & (df_houses['rooms'] > 0)]\n",
    "\n",
    "model = LinearRegression()\n",
    "# poly = PolynomialFeatures(degree=2, include_bias=True)\n",
    "\n",
    "# stage 1\n",
    "X = df_houses[((df_houses['square'] > 0) & (df_houses['floors'] > 0)) & (df_houses['rooms'] > 0)]\n",
    "model.fit(X[['square', 'floors']], X['rooms'])\n",
    "X = df_houses[((df_houses['square'] > 0) & (df_houses['floors'] > 0)) & (df_houses['rooms'] < 1)]\n",
    "idx1 = X.index\n",
    "preds1 = model.predict(X[['square', 'floors']])\n",
    "\n",
    "# stage 2\n",
    "X = df_houses[((df_houses['square'] > 0) & (df_houses['floors'] < 1)) & (df_houses['rooms'] > 0)]\n",
    "model.fit(X[['square']], X['rooms'])\n",
    "X = df_houses[((df_houses['square'] > 0) & (df_houses['floors'] < 1)) & (df_houses['rooms'] < 1)]\n",
    "idx2 = X.index\n",
    "preds2 = model.predict(X[['square']])\n",
    "\n",
    "# stage 3\n",
    "X = df_houses[((df_houses['square'] < 0.1) & (df_houses['floors'] > 0)) & (df_houses['rooms'] > 0)]\n",
    "model.fit(X[['floors']], X['rooms'])\n",
    "X = df_houses[((df_houses['square'] < 0.1) & (df_houses['floors'] > 0)) & (df_houses['rooms'] < 1)]\n",
    "idx3 = X.index\n",
    "preds3 = model.predict(X[['floors']])\n",
    "\n",
    "# setting results\n",
    "df_houses.loc[idx1, 'rooms'] = list(map(round, preds1))\n",
    "df_houses.loc[idx2, 'rooms'] = list(map(round, preds2))\n",
    "df_houses.loc[idx3, 'rooms'] = list(map(round, preds3))\n",
    "# df_houses = df_houses[df_houses['rooms'] > 0]\n",
    "df_houses['rooms'].replace(0, df_houses['rooms'].median(), inplace=True)\n",
    "assert len(df_houses[df_houses['rooms'] < 1]) == 0\n",
    "df_houses.to_csv('houses_new.csv')"
   ]
  },
  {
   "cell_type": "code",
   "execution_count": null,
   "metadata": {},
   "outputs": [
    {
     "data": {
      "text/plain": [
       "211"
      ]
     },
     "execution_count": 163,
     "metadata": {},
     "output_type": "execute_result"
    }
   ],
   "source": [
    "banned_words = [\n",
    "    'справочник',\n",
    "    'рейтинг',\n",
    "    'сведения',\n",
    "    'работы',\n",
    "    'график',\n",
    "    'календарь',\n",
    "    'маршрут',\n",
    "    'реестр',\n",
    "    'перечень'\n",
    "]\n",
    "interesting_ids = [493, 495, 498, 499, 501, 502, 503, 504, 505, 1798, 506, 509, 512, 515, 1799, 517, 518, 526, 527, 528, 529, 530, 531, 536, 537, 538, 539, 540, 541, 542, 543, 544, 546, 547, 548, 551, 552, 553, 554, 555, 556, 557, 559, 563, 564, 565, 566, 567, 568, 569, 570, 572, 573, 574, 575, 576, 577, 582, 585, 586, 587, 588, 611, 621, 622, 624, 629, 1800, 673, 745, 753, 754, 1047, 842, 1831, 898, 905, 908, 910, 1832, 918, 1045, 1833, 1095, 1834, 1181, 1193, 1255, 1256, 1260, 1344, 1464, 1661, 1681, 1682, 1775, 1765, 1766, 1767, 1768, 1770, 1793, 1772, 1773, 1774, 1794, 1776, 1777, 1778, 1779, 1796, 1797, 1780, 1781, 1783, 1784, 1787, 1788, 1789, 1790, 1791, 1792, 1801, 1802, 1803, 1804, 1805, 1806, 1808, 1809, 1810, 1811, 1812, 1813, 1814, 1815, 1816, 1817, 1818, 1819, 1820, 1821, 1822, 1823, 1824, 1826, 1827, 1828, 1829, 1830, 1835, 1836, 1837, 1838, 1840, 1842, 1843, 1844, 1845, 1847, 1848, 1849, 1850, 1851, 1852, 1853, 1854, 1854, 1855, 1856, 1857, 1858, 1859, 1860, 1861, 1862, 1881, 1903, 1904, 2985, 2115, 2116, 2249, 2254, 2263, 2346, 2265, 2266, 2267, 2268, 2269, 2343, 2351, 2357, 2563, 2601, 2624, 2704, 3015, 3304, 3326, 60622, 60624, 60762, 60801, 61861, 62201, 62207, 62890, 62503, 62841, 62888]\n",
    "interesting_ids == set(interesting_ids)\n",
    "datasets_filtered = []\n",
    "for index, row in datasetsDf.iterrows():\n",
    "    if row['contains_geodata'] == True:\n",
    "        caption = row['caption'].lower()\n",
    "        for w in banned_words:\n",
    "            if w in caption:\n",
    "                continue\n",
    "        datasets_filtered.append(row)\n",
    "datasets_filtered = [row for row in datasets_filtered if row['id'] in interesting_ids]\n",
    "datasets_filtered.sort(key=lambda x: x[\"id\"])\n",
    "len(datasets_filtered)"
   ]
  },
  {
   "cell_type": "code",
   "execution_count": null,
   "metadata": {},
   "outputs": [],
   "source": [
    "print(*[f\"{row['id']}: {row['caption']}\" for row in datasets_filtered], sep='\\n')"
   ]
  },
  {
   "cell_type": "code",
   "execution_count": null,
   "metadata": {},
   "outputs": [],
   "source": [
    "ds_duplicates = psql.read_sql(\"SELECT global_id, array_to_string(array_agg(mos_dataset_id), ', ') AS datasets FROM mos_rows GROUP BY global_id HAVING global_id IS NOT NULL AND COUNT(*) > 1\", connection)"
   ]
  },
  {
   "cell_type": "code",
   "execution_count": 344,
   "metadata": {},
   "outputs": [
    {
     "name": "stdout",
     "output_type": "stream",
     "text": [
      "123 [538, 539, 540, 541, 542, 543, 551, 552, 553, 561, 562, 564, 565, 566, 567, 568, 569, 572, 573, 574, 575, 576, 577, 579, 582, 585, 587, 596, 1765, 1766, 1767, 1768, 1769, 1770, 1771, 1772, 1773, 1774, 1775, 1776, 1777, 1778, 1779, 1780, 1781, 1782, 1783, 1784, 1785, 1788, 1790, 1792, 1793, 1794, 1796, 1797, 1798, 1799, 1800, 1801, 1802, 1803, 1804, 1805, 1806, 1808, 1809, 1810, 1811, 1812, 1813, 1814, 1815, 1816, 1817, 1818, 1819, 1820, 1821, 1822, 1823, 1824, 1826, 1827, 1828, 1830, 1831, 1832, 1833, 1834, 1835, 1836, 1837, 1838, 1840, 1842, 1843, 1844, 1845, 1847, 1848, 1849, 1850, 1851, 1852, 1853, 1854, 1855, 1856, 1857, 1858, 1859, 1860, 1861, 1862, 1903, 1904, 2270, 2704, 3304, 60622, 61360, 62361]\n"
     ]
    }
   ],
   "source": [
    "duplicates = set(map(lambda s: tuple(sorted(map(int, s.split(', ')))), ds_duplicates['datasets'].tolist()))\n",
    "duplicates = [x for x in duplicates if any(id in interesting_ids for id in x)]\n",
    "# len(duplicates)\n",
    "# sorted(duplicates)\n",
    "datasets_with_duplicates = sorted(set([item for sublist in duplicates for item in sublist]))\n",
    "print(len(datasets_with_duplicates), datasets_with_duplicates)"
   ]
  },
  {
   "cell_type": "code",
   "execution_count": null,
   "metadata": {},
   "outputs": [],
   "source": [
    "with open('analytics.txt', 'r') as fin:\n",
    "    datasets_selected = fin.read().split('__skip__')[1].strip().split('\\n\\n')\n",
    "dataset_ids_by_group = {\n",
    "    group_name: list(map(lambda x: int(x.split(': ')[0]), lst.split('\\n')))\n",
    "    for group_name, lst in map(lambda x: x.split(':\\n', 1), datasets_selected)\n",
    "}\n",
    "\n",
    "connection = pg.connect(\"host=188.72.109.162 dbname=optimus_post_db user=reader password=aboba\")\n",
    "def extract_points(ids):\n",
    "    def get_polygon_center(coords):\n",
    "        x, y = zip(*coords[0][:-1])\n",
    "        return sum(x) / len(x), sum(y) / len(y)\n",
    "    \n",
    "    def get_coords(geo):\n",
    "        match geo['type']:\n",
    "            case 'Point':\n",
    "                return [tuple(geo['coordinates'])]\n",
    "            case 'Polygon':\n",
    "                return [get_polygon_center(geo['coordinates'])]\n",
    "            case 'MultiPoint':\n",
    "                return [tuple(coords) for coords in geo['coordinates']]\n",
    "            case 'MultiPolygon':\n",
    "                return [get_polygon_center(coords) for coords in geo['coordinates']]\n",
    "            case _:\n",
    "                raise ValueError(geo['type'])\n",
    "\n",
    "    def to_float(x):\n",
    "        return float(x.replace(',', '.')) if isinstance(x, str) else x\n",
    "    \n",
    "    geo_data = psql.read_sql(f'SELECT geo_data, data FROM mos_rows WHERE mos_dataset_id IN {ids}', connection)\n",
    "    # todo: better remove duplicates by global_id\n",
    "    geo_data_set = set()\n",
    "    for geo, data in zip(geo_data['geo_data'], geo_data['data']):\n",
    "        if geo:\n",
    "            geo_data_set.update(get_coords(geo))\n",
    "        elif 'X' in data:\n",
    "            geo_data_set.add((to_float(data['X']), to_float(data['Y'])))\n",
    "        elif 'X_WGS84' in data:\n",
    "            geo_data_set.add((to_float(data['X_WGS84']), to_float(data['Y_WGS84'])))\n",
    "        elif 'Longitude_WGS84' in data:\n",
    "            geo_data_set.add((to_float(data['Longitude_WGS84']), to_float(data['Latitude_WGS84'])))\n",
    "        else:\n",
    "            print(data.keys())\n",
    "    return list(geo_data_set)\n",
    "\n",
    "coords_by_group = {\n",
    "    group_name: extract_points(tuple(ids))\n",
    "    for group_name, ids in dataset_ids_by_group.items()\n",
    "}"
   ]
  },
  {
   "cell_type": "code",
   "execution_count": 549,
   "metadata": {},
   "outputs": [
    {
     "data": {
      "text/plain": [
       "[('activities', 8867),\n",
       " ('entertainment', 10343),\n",
       " ('shops', 10899),\n",
       " ('services', 13701),\n",
       " ('health', 1125),\n",
       " ('kindergartens', 2848),\n",
       " ('education', 7687),\n",
       " ('food', 24282),\n",
       " ('transport_public', 7971),\n",
       " ('transport_other', 4099),\n",
       " ('work_and_housing', 1750),\n",
       " ('religion', 578)]"
      ]
     },
     "execution_count": 549,
     "metadata": {},
     "output_type": "execute_result"
    }
   ],
   "source": [
    "with open('coordinates_by_group.json', 'w') as fout:\n",
    "    json.dump(coords_by_group, fout)\n",
    "[(k, len(v)) for k, v in coords_by_group.items()]"
   ]
  },
  {
   "cell_type": "code",
   "execution_count": 588,
   "metadata": {},
   "outputs": [
    {
     "data": {
      "text/html": [
       "<div>\n",
       "<style scoped>\n",
       "    .dataframe tbody tr th:only-of-type {\n",
       "        vertical-align: middle;\n",
       "    }\n",
       "\n",
       "    .dataframe tbody tr th {\n",
       "        vertical-align: top;\n",
       "    }\n",
       "\n",
       "    .dataframe thead th {\n",
       "        text-align: right;\n",
       "    }\n",
       "</style>\n",
       "<table border=\"1\" class=\"dataframe\">\n",
       "  <thead>\n",
       "    <tr style=\"text-align: right;\">\n",
       "      <th></th>\n",
       "      <th>address</th>\n",
       "      <th>square</th>\n",
       "      <th>year</th>\n",
       "      <th>floors</th>\n",
       "      <th>entrances</th>\n",
       "      <th>rooms</th>\n",
       "      <th>coordinates</th>\n",
       "    </tr>\n",
       "    <tr>\n",
       "      <th>id</th>\n",
       "      <th></th>\n",
       "      <th></th>\n",
       "      <th></th>\n",
       "      <th></th>\n",
       "      <th></th>\n",
       "      <th></th>\n",
       "      <th></th>\n",
       "    </tr>\n",
       "  </thead>\n",
       "  <tbody>\n",
       "    <tr>\n",
       "      <th>1</th>\n",
       "      <td>пр-кт. Мира, д. 188 Б, к. 1, Москва</td>\n",
       "      <td>54804.10</td>\n",
       "      <td>2014</td>\n",
       "      <td>58</td>\n",
       "      <td>1.0</td>\n",
       "      <td>370.0</td>\n",
       "      <td>(37.65806954672649, 55.83441355)</td>\n",
       "    </tr>\n",
       "    <tr>\n",
       "      <th>2</th>\n",
       "      <td>пр-кт. Мира, д. 188Б, к. 3, Москва</td>\n",
       "      <td>53253.20</td>\n",
       "      <td>2015</td>\n",
       "      <td>58</td>\n",
       "      <td>1.0</td>\n",
       "      <td>356.0</td>\n",
       "      <td>(37.6584768, 55.8355402)</td>\n",
       "    </tr>\n",
       "    <tr>\n",
       "      <th>3</th>\n",
       "      <td>пер. Чапаевский, д. 3, Москва</td>\n",
       "      <td>256740.60</td>\n",
       "      <td>2006</td>\n",
       "      <td>57</td>\n",
       "      <td>14.0</td>\n",
       "      <td>992.0</td>\n",
       "      <td>(37.52038218638005, 55.79818205)</td>\n",
       "    </tr>\n",
       "    <tr>\n",
       "      <th>4</th>\n",
       "      <td>ул. Мосфильмовская, д. 8, Москва</td>\n",
       "      <td>137500.80</td>\n",
       "      <td>2011</td>\n",
       "      <td>53</td>\n",
       "      <td>2.0</td>\n",
       "      <td>564.0</td>\n",
       "      <td>(37.527035300180884, 55.72377795)</td>\n",
       "    </tr>\n",
       "    <tr>\n",
       "      <th>5</th>\n",
       "      <td>ул. Мосфильмовская, д. 70, Москва</td>\n",
       "      <td>341272.69</td>\n",
       "      <td>2006</td>\n",
       "      <td>50</td>\n",
       "      <td>7.0</td>\n",
       "      <td>1046.0</td>\n",
       "      <td>(37.5088701, 55.7168266)</td>\n",
       "    </tr>\n",
       "    <tr>\n",
       "      <th>...</th>\n",
       "      <td>...</td>\n",
       "      <td>...</td>\n",
       "      <td>...</td>\n",
       "      <td>...</td>\n",
       "      <td>...</td>\n",
       "      <td>...</td>\n",
       "      <td>...</td>\n",
       "    </tr>\n",
       "    <tr>\n",
       "      <th>32151</th>\n",
       "      <td>пер. Переведеновский, д. 4, стр. 1, Москва</td>\n",
       "      <td>1512.60</td>\n",
       "      <td>1916</td>\n",
       "      <td>0</td>\n",
       "      <td>0.0</td>\n",
       "      <td>46.0</td>\n",
       "      <td>(37.690297, 55.7802424)</td>\n",
       "    </tr>\n",
       "    <tr>\n",
       "      <th>32152</th>\n",
       "      <td>ул. Руставели, д. 6, к. 5, Москва</td>\n",
       "      <td>2505.00</td>\n",
       "      <td>1966</td>\n",
       "      <td>0</td>\n",
       "      <td>0.0</td>\n",
       "      <td>58.0</td>\n",
       "      <td>(37.588301742592506, 55.8121977)</td>\n",
       "    </tr>\n",
       "    <tr>\n",
       "      <th>32153</th>\n",
       "      <td>пер. Староконюшенный, д. 10/10, стр. 1, Москва</td>\n",
       "      <td>3066.00</td>\n",
       "      <td>0</td>\n",
       "      <td>0</td>\n",
       "      <td>0.0</td>\n",
       "      <td>64.0</td>\n",
       "      <td>(37.59626305140152, 55.7451523)</td>\n",
       "    </tr>\n",
       "    <tr>\n",
       "      <th>32154</th>\n",
       "      <td>пер. Фурманный, д. 18, Москва</td>\n",
       "      <td>5810.00</td>\n",
       "      <td>1917</td>\n",
       "      <td>0</td>\n",
       "      <td>0.0</td>\n",
       "      <td>97.0</td>\n",
       "      <td>(37.651556, 55.7649367)</td>\n",
       "    </tr>\n",
       "    <tr>\n",
       "      <th>32157</th>\n",
       "      <td>б-р. Чистопрудный, д. 23, стр. 1, Москва</td>\n",
       "      <td>3270.00</td>\n",
       "      <td>1907</td>\n",
       "      <td>0</td>\n",
       "      <td>0.0</td>\n",
       "      <td>67.0</td>\n",
       "      <td>(37.6466793, 55.7602772)</td>\n",
       "    </tr>\n",
       "  </tbody>\n",
       "</table>\n",
       "<p>29041 rows × 7 columns</p>\n",
       "</div>"
      ],
      "text/plain": [
       "                                              address     square  year  \\\n",
       "id                                                                       \n",
       "1                 пр-кт. Мира, д. 188 Б, к. 1, Москва   54804.10  2014   \n",
       "2                  пр-кт. Мира, д. 188Б, к. 3, Москва   53253.20  2015   \n",
       "3                       пер. Чапаевский, д. 3, Москва  256740.60  2006   \n",
       "4                    ул. Мосфильмовская, д. 8, Москва  137500.80  2011   \n",
       "5                   ул. Мосфильмовская, д. 70, Москва  341272.69  2006   \n",
       "...                                               ...        ...   ...   \n",
       "32151      пер. Переведеновский, д. 4, стр. 1, Москва    1512.60  1916   \n",
       "32152               ул. Руставели, д. 6, к. 5, Москва    2505.00  1966   \n",
       "32153  пер. Староконюшенный, д. 10/10, стр. 1, Москва    3066.00     0   \n",
       "32154                   пер. Фурманный, д. 18, Москва    5810.00  1917   \n",
       "32157        б-р. Чистопрудный, д. 23, стр. 1, Москва    3270.00  1907   \n",
       "\n",
       "       floors  entrances   rooms                        coordinates  \n",
       "id                                                                   \n",
       "1          58        1.0   370.0   (37.65806954672649, 55.83441355)  \n",
       "2          58        1.0   356.0           (37.6584768, 55.8355402)  \n",
       "3          57       14.0   992.0   (37.52038218638005, 55.79818205)  \n",
       "4          53        2.0   564.0  (37.527035300180884, 55.72377795)  \n",
       "5          50        7.0  1046.0           (37.5088701, 55.7168266)  \n",
       "...       ...        ...     ...                                ...  \n",
       "32151       0        0.0    46.0            (37.690297, 55.7802424)  \n",
       "32152       0        0.0    58.0   (37.588301742592506, 55.8121977)  \n",
       "32153       0        0.0    64.0    (37.59626305140152, 55.7451523)  \n",
       "32154       0        0.0    97.0            (37.651556, 55.7649367)  \n",
       "32157       0        0.0    67.0           (37.6466793, 55.7602772)  \n",
       "\n",
       "[29041 rows x 7 columns]"
      ]
     },
     "execution_count": 588,
     "metadata": {},
     "output_type": "execute_result"
    }
   ],
   "source": [
    "addr_to_coords = pd.read_csv('addresses_to_coordinates.csv').set_index('address').to_dict()['coordinates']\n",
    "df_houses['coordinates'] = df_houses['address'].apply(lambda x: tuple(map(float, addr_to_coords[x][1:-1].split(', '))) if len(addr_to_coords[x]) > 2 else pd.NA)\n",
    "df_houses.dropna(inplace=True)\n",
    "df_houses"
   ]
  },
  {
   "cell_type": "code",
   "execution_count": null,
   "metadata": {},
   "outputs": [],
   "source": [
    "connection = pg.connect(\"host=188.72.109.162 dbname=optimus_post_db user=reader password=aboba\")\n",
    "point_type = 'mos_kiosks'  # mos_kiosks, mos_shopping_facilities, mos_multifunctional_centers, mos_libraries, mos_culture_houses, mos_sports_facilities\n",
    "post_points = psql.read_sql(f'SELECT * FROM {point_type}', connection).set_index('id')"
   ]
  },
  {
   "cell_type": "code",
   "execution_count": 591,
   "metadata": {},
   "outputs": [],
   "source": [
    "class FeatureGeneratorCountHousesInRadius:\n",
    "    def __init__(self, houses, radiuses_in_km=[0.1, 0.2, 0.4, 0.8]):\n",
    "        self.houses = houses\n",
    "        self.radiuses = radiuses_in_km\n",
    "        self.R = 6373.0  # approximate radius of earth in km\n",
    "\n",
    "    def calc_dist_in_km(self, coord1, coord2):\n",
    "        lat1, lon1 = math.radians(coord1[0]), math.radians(coord1[1])\n",
    "        lat2, lon2 = math.radians(coord2[0]), math.radians(coord2[1])\n",
    "        a = math.sin((lat2 - lat1) / 2) ** 2 + math.cos(lat1) * math.cos(lat2) * math.sin((lon2 - lon1) / 2) ** 2\n",
    "        c = 2 * math.atan2(math.sqrt(a), math.sqrt(1 - a))\n",
    "        return self.R * c\n",
    "\n",
    "    def __call__(self, target_coords):\n",
    "        \"\"\"\n",
    "        returns generator of pairs: (feature_name, feature_values)\n",
    "        \"\"\"\n",
    "        house_rooms = self.houses['rooms']\n",
    "        house_coordinates = self.houses['coordinates']\n",
    "        distances = [\n",
    "            [sorted([(self.calc_dist_in_km(trg_coord, hou_coord), n_rooms) for hou_coord, n_rooms in zip(house_coordinates, house_rooms)], key=lambda x: x[0])]\n",
    "            for trg_coord in target_coords\n",
    "        ]\n",
    "        ds, rooms = zip(*distances)\n",
    "        for radius in self.radiuses:\n",
    "            idx = bisect_left(ds, radius)\n",
    "            yield f'house_rooms_in_{radius}_km', sum(rooms[:idx])\n",
    "\n",
    "\n",
    "class FeatureGeneratorCountObjectsInRadius:\n",
    "    def __init__(self, data, radiuses_in_km=[0.1, 0.2, 0.4, 0.8]):\n",
    "        \"\"\"\n",
    "        data: {'object_group': [(lat1, long1), (lat2, long2), ...]}\n",
    "        \"\"\"\n",
    "        self.data = data\n",
    "        self.radiuses = radiuses_in_km\n",
    "        self.R = 6373.0  # approximate radius of earth in km\n",
    "\n",
    "    def calc_dist_in_km(self, coord1, coord2):\n",
    "        lat1, lon1 = math.radians(coord1[0]), math.radians(coord1[1])\n",
    "        lat2, lon2 = math.radians(coord2[0]), math.radians(coord2[1])\n",
    "        a = math.sin((lat2 - lat1) / 2) ** 2 + math.cos(lat1) * math.cos(lat2) * math.sin((lon2 - lon1) / 2) ** 2\n",
    "        c = 2 * math.atan2(math.sqrt(a), math.sqrt(1 - a))\n",
    "        return self.R * c\n",
    "\n",
    "    def __call__(self, target_coords):\n",
    "        \"\"\"\n",
    "        returns generator of pairs: (feature_name, feature_values)\n",
    "        \"\"\"\n",
    "        for group_name, object_coords in self.data.items():\n",
    "            distances = [\n",
    "                sorted(self.calc_dist_in_km(trg_coord, obj_coord) for obj_coord in object_coords)\n",
    "                for trg_coord in target_coords\n",
    "            ]\n",
    "            for radius in self.radiuses:\n",
    "                yield f'{group_name}_in_{radius}_km', [bisect_left(ds, radius) for ds in distances]"
   ]
  },
  {
   "cell_type": "code",
   "execution_count": 592,
   "metadata": {},
   "outputs": [],
   "source": [
    "def generate_features(df_points):\n",
    "    feature_generators = [\n",
    "        FeatureGeneratorCountHousesInRadius(df_houses),\n",
    "        FeatureGeneratorCountObjectsInRadius(coords_by_group),\n",
    "        # todo: add traffic features\n",
    "    ]\n",
    "    for feat_gen in feature_generators:\n",
    "        for feat_name, feat_values in feat_gen(df_points['coordinates']):\n",
    "            df_points[feat_name] = feat_values\n",
    "\n",
    "post_points['coordinates'] = [tuple(geo['coordinates']) for geo in post_points['geo_data']]\n",
    "generate_features(post_points)\n",
    "post_points"
   ]
  },
  {
   "cell_type": "code",
   "execution_count": null,
   "metadata": {},
   "outputs": [],
   "source": [
    "assert len(post_points.iloc[:,21:].columns) == (1 + len(coords_by_group)) * 4\n",
    "feature_columns = post_points.iloc[:,21:].columns"
   ]
  },
  {
   "cell_type": "code",
   "execution_count": 556,
   "metadata": {},
   "outputs": [],
   "source": [
    "post_points.to_csv(f'{point_type}.csv')"
   ]
  },
  {
   "cell_type": "code",
   "execution_count": null,
   "metadata": {},
   "outputs": [],
   "source": []
  }
 ],
 "metadata": {
  "kernelspec": {
   "display_name": "Python 3.10.8 64-bit",
   "language": "python",
   "name": "python3"
  },
  "language_info": {
   "codemirror_mode": {
    "name": "ipython",
    "version": 3
   },
   "file_extension": ".py",
   "mimetype": "text/x-python",
   "name": "python",
   "nbconvert_exporter": "python",
   "pygments_lexer": "ipython3",
   "version": "3.10.8"
  },
  "vscode": {
   "interpreter": {
    "hash": "aee8b7b246df8f9039afb4144a1f6fd8d2ca17a180786b69acc140d282b71a49"
   }
  }
 },
 "nbformat": 4,
 "nbformat_minor": 4
}
