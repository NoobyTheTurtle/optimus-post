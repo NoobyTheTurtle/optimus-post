{
 "cells": [
  {
   "cell_type": "code",
   "execution_count": 61,
   "metadata": {},
   "outputs": [],
   "source": [
    "import pandas as pd\n",
    "import requests\n",
    "import json\n",
    "from shapely.geometry import Point\n",
    "from shapely.geometry.polygon import Polygon\n",
    "import psycopg2 as pg\n",
    "import pandas.io.sql as psql\n",
    "import ast\n",
    "connection = pg.connect(\"host=188.72.109.162 dbname=optimus_post_db user=reader password=aboba\")\n",
    "cursor = connection.cursor()"
   ]
  },
  {
   "cell_type": "code",
   "execution_count": 3,
   "metadata": {},
   "outputs": [
    {
     "data": {
      "text/html": [
       "<div>\n",
       "<style scoped>\n",
       "    .dataframe tbody tr th:only-of-type {\n",
       "        vertical-align: middle;\n",
       "    }\n",
       "\n",
       "    .dataframe tbody tr th {\n",
       "        vertical-align: top;\n",
       "    }\n",
       "\n",
       "    .dataframe thead th {\n",
       "        text-align: right;\n",
       "    }\n",
       "</style>\n",
       "<table border=\"1\" class=\"dataframe\">\n",
       "  <thead>\n",
       "    <tr style=\"text-align: right;\">\n",
       "      <th></th>\n",
       "      <th>id</th>\n",
       "      <th>global_id</th>\n",
       "      <th>geo_data</th>\n",
       "      <th>mos_dataset_id</th>\n",
       "      <th>data</th>\n",
       "    </tr>\n",
       "  </thead>\n",
       "  <tbody>\n",
       "    <tr>\n",
       "      <th>0</th>\n",
       "      <td>1008400</td>\n",
       "      <td>833043944</td>\n",
       "      <td>{'type': 'Point', 'coordinates': [37.78772601,...</td>\n",
       "      <td>60662</td>\n",
       "      <td>{'Street': '', 'geoData': {'type': 'Point', 'c...</td>\n",
       "    </tr>\n",
       "    <tr>\n",
       "      <th>1</th>\n",
       "      <td>1008401</td>\n",
       "      <td>833043948</td>\n",
       "      <td>{'type': 'Point', 'coordinates': [37.7938182, ...</td>\n",
       "      <td>60662</td>\n",
       "      <td>{'Street': '', 'geoData': {'type': 'Point', 'c...</td>\n",
       "    </tr>\n",
       "    <tr>\n",
       "      <th>2</th>\n",
       "      <td>1008402</td>\n",
       "      <td>833043951</td>\n",
       "      <td>{'type': 'Point', 'coordinates': [37.79882395,...</td>\n",
       "      <td>60662</td>\n",
       "      <td>{'Street': '', 'geoData': {'type': 'Point', 'c...</td>\n",
       "    </tr>\n",
       "    <tr>\n",
       "      <th>3</th>\n",
       "      <td>1008403</td>\n",
       "      <td>833043954</td>\n",
       "      <td>{'type': 'Point', 'coordinates': [37.81981326,...</td>\n",
       "      <td>60662</td>\n",
       "      <td>{'Street': '', 'geoData': {'type': 'Point', 'c...</td>\n",
       "    </tr>\n",
       "    <tr>\n",
       "      <th>4</th>\n",
       "      <td>1008404</td>\n",
       "      <td>833043956</td>\n",
       "      <td>{'type': 'Point', 'coordinates': [37.76169693,...</td>\n",
       "      <td>60662</td>\n",
       "      <td>{'Street': '', 'geoData': {'type': 'Point', 'c...</td>\n",
       "    </tr>\n",
       "    <tr>\n",
       "      <th>...</th>\n",
       "      <td>...</td>\n",
       "      <td>...</td>\n",
       "      <td>...</td>\n",
       "      <td>...</td>\n",
       "      <td>...</td>\n",
       "    </tr>\n",
       "    <tr>\n",
       "      <th>12402</th>\n",
       "      <td>1020802</td>\n",
       "      <td>2387472879</td>\n",
       "      <td>{'type': 'Point', 'coordinates': [37.48174309,...</td>\n",
       "      <td>60662</td>\n",
       "      <td>{'Street': '', 'geoData': {'type': 'Point', 'c...</td>\n",
       "    </tr>\n",
       "    <tr>\n",
       "      <th>12403</th>\n",
       "      <td>1020803</td>\n",
       "      <td>2387472881</td>\n",
       "      <td>{'type': 'Point', 'coordinates': [37.71416567,...</td>\n",
       "      <td>60662</td>\n",
       "      <td>{'Street': '', 'geoData': {'type': 'Point', 'c...</td>\n",
       "    </tr>\n",
       "    <tr>\n",
       "      <th>12404</th>\n",
       "      <td>1020804</td>\n",
       "      <td>2387472882</td>\n",
       "      <td>{'type': 'Point', 'coordinates': [37.5537541, ...</td>\n",
       "      <td>60662</td>\n",
       "      <td>{'Street': '', 'geoData': {'type': 'Point', 'c...</td>\n",
       "    </tr>\n",
       "    <tr>\n",
       "      <th>12405</th>\n",
       "      <td>1020805</td>\n",
       "      <td>2387472883</td>\n",
       "      <td>{'type': 'Point', 'coordinates': [37.71956529,...</td>\n",
       "      <td>60662</td>\n",
       "      <td>{'Street': '', 'geoData': {'type': 'Point', 'c...</td>\n",
       "    </tr>\n",
       "    <tr>\n",
       "      <th>12406</th>\n",
       "      <td>1020806</td>\n",
       "      <td>2387472884</td>\n",
       "      <td>{'type': 'Point', 'coordinates': [37.65923744,...</td>\n",
       "      <td>60662</td>\n",
       "      <td>{'Street': '', 'geoData': {'type': 'Point', 'c...</td>\n",
       "    </tr>\n",
       "  </tbody>\n",
       "</table>\n",
       "<p>12407 rows × 5 columns</p>\n",
       "</div>"
      ],
      "text/plain": [
       "            id   global_id                                           geo_data  \\\n",
       "0      1008400   833043944  {'type': 'Point', 'coordinates': [37.78772601,...   \n",
       "1      1008401   833043948  {'type': 'Point', 'coordinates': [37.7938182, ...   \n",
       "2      1008402   833043951  {'type': 'Point', 'coordinates': [37.79882395,...   \n",
       "3      1008403   833043954  {'type': 'Point', 'coordinates': [37.81981326,...   \n",
       "4      1008404   833043956  {'type': 'Point', 'coordinates': [37.76169693,...   \n",
       "...        ...         ...                                                ...   \n",
       "12402  1020802  2387472879  {'type': 'Point', 'coordinates': [37.48174309,...   \n",
       "12403  1020803  2387472881  {'type': 'Point', 'coordinates': [37.71416567,...   \n",
       "12404  1020804  2387472882  {'type': 'Point', 'coordinates': [37.5537541, ...   \n",
       "12405  1020805  2387472883  {'type': 'Point', 'coordinates': [37.71956529,...   \n",
       "12406  1020806  2387472884  {'type': 'Point', 'coordinates': [37.65923744,...   \n",
       "\n",
       "       mos_dataset_id                                               data  \n",
       "0               60662  {'Street': '', 'geoData': {'type': 'Point', 'c...  \n",
       "1               60662  {'Street': '', 'geoData': {'type': 'Point', 'c...  \n",
       "2               60662  {'Street': '', 'geoData': {'type': 'Point', 'c...  \n",
       "3               60662  {'Street': '', 'geoData': {'type': 'Point', 'c...  \n",
       "4               60662  {'Street': '', 'geoData': {'type': 'Point', 'c...  \n",
       "...               ...                                                ...  \n",
       "12402           60662  {'Street': '', 'geoData': {'type': 'Point', 'c...  \n",
       "12403           60662  {'Street': '', 'geoData': {'type': 'Point', 'c...  \n",
       "12404           60662  {'Street': '', 'geoData': {'type': 'Point', 'c...  \n",
       "12405           60662  {'Street': '', 'geoData': {'type': 'Point', 'c...  \n",
       "12406           60662  {'Street': '', 'geoData': {'type': 'Point', 'c...  \n",
       "\n",
       "[12407 rows x 5 columns]"
      ]
     },
     "execution_count": 3,
     "metadata": {},
     "output_type": "execute_result"
    }
   ],
   "source": [
    "rowsDf = psql.read_sql('SELECT * FROM mos_rows WHERE mos_dataset_id = 60662 LIMIT 100000', connection)\n",
    "rowsDf"
   ]
  },
  {
   "cell_type": "code",
   "execution_count": 63,
   "metadata": {},
   "outputs": [
    {
     "data": {
      "text/html": [
       "<div>\n",
       "<style scoped>\n",
       "    .dataframe tbody tr th:only-of-type {\n",
       "        vertical-align: middle;\n",
       "    }\n",
       "\n",
       "    .dataframe tbody tr th {\n",
       "        vertical-align: top;\n",
       "    }\n",
       "\n",
       "    .dataframe thead th {\n",
       "        text-align: right;\n",
       "    }\n",
       "</style>\n",
       "<table border=\"1\" class=\"dataframe\">\n",
       "  <thead>\n",
       "    <tr style=\"text-align: right;\">\n",
       "      <th></th>\n",
       "      <th>id</th>\n",
       "      <th>address</th>\n",
       "      <th>square</th>\n",
       "      <th>year</th>\n",
       "      <th>floors</th>\n",
       "      <th>entrances</th>\n",
       "      <th>rooms</th>\n",
       "    </tr>\n",
       "  </thead>\n",
       "  <tbody>\n",
       "    <tr>\n",
       "      <th>0</th>\n",
       "      <td>1</td>\n",
       "      <td>пр-кт. Мира, д. 188 Б, к. 1, Москва</td>\n",
       "      <td>54804.10</td>\n",
       "      <td>2014</td>\n",
       "      <td>58</td>\n",
       "      <td>1.0</td>\n",
       "      <td>370.0</td>\n",
       "    </tr>\n",
       "    <tr>\n",
       "      <th>1</th>\n",
       "      <td>2</td>\n",
       "      <td>пр-кт. Мира, д. 188Б, к. 3, Москва</td>\n",
       "      <td>53253.20</td>\n",
       "      <td>2015</td>\n",
       "      <td>58</td>\n",
       "      <td>1.0</td>\n",
       "      <td>356.0</td>\n",
       "    </tr>\n",
       "    <tr>\n",
       "      <th>2</th>\n",
       "      <td>3</td>\n",
       "      <td>пер. Чапаевский, д. 3, Москва</td>\n",
       "      <td>256740.60</td>\n",
       "      <td>2006</td>\n",
       "      <td>57</td>\n",
       "      <td>14.0</td>\n",
       "      <td>992.0</td>\n",
       "    </tr>\n",
       "    <tr>\n",
       "      <th>3</th>\n",
       "      <td>4</td>\n",
       "      <td>ул. Мосфильмовская, д. 8, Москва</td>\n",
       "      <td>137500.80</td>\n",
       "      <td>2011</td>\n",
       "      <td>53</td>\n",
       "      <td>2.0</td>\n",
       "      <td>564.0</td>\n",
       "    </tr>\n",
       "    <tr>\n",
       "      <th>4</th>\n",
       "      <td>5</td>\n",
       "      <td>ул. Мосфильмовская, д. 70, Москва</td>\n",
       "      <td>341272.69</td>\n",
       "      <td>2006</td>\n",
       "      <td>50</td>\n",
       "      <td>7.0</td>\n",
       "      <td>1046.0</td>\n",
       "    </tr>\n",
       "    <tr>\n",
       "      <th>...</th>\n",
       "      <td>...</td>\n",
       "      <td>...</td>\n",
       "      <td>...</td>\n",
       "      <td>...</td>\n",
       "      <td>...</td>\n",
       "      <td>...</td>\n",
       "      <td>...</td>\n",
       "    </tr>\n",
       "    <tr>\n",
       "      <th>33393</th>\n",
       "      <td>33394</td>\n",
       "      <td>ул. Оренбургская, д. 5, к. 4, Москва</td>\n",
       "      <td>107.10</td>\n",
       "      <td>1954</td>\n",
       "      <td>1</td>\n",
       "      <td>NaN</td>\n",
       "      <td>2.0</td>\n",
       "    </tr>\n",
       "    <tr>\n",
       "      <th>33394</th>\n",
       "      <td>33395</td>\n",
       "      <td>г. Зеленоград, проезд. 6537-й, д. 21, Москва</td>\n",
       "      <td>469.00</td>\n",
       "      <td>2009</td>\n",
       "      <td>1</td>\n",
       "      <td>NaN</td>\n",
       "      <td>NaN</td>\n",
       "    </tr>\n",
       "    <tr>\n",
       "      <th>33395</th>\n",
       "      <td>33396</td>\n",
       "      <td>ул. Спортивная, д. 10, Москва</td>\n",
       "      <td>133.00</td>\n",
       "      <td>1940</td>\n",
       "      <td>1</td>\n",
       "      <td>NaN</td>\n",
       "      <td>NaN</td>\n",
       "    </tr>\n",
       "    <tr>\n",
       "      <th>33396</th>\n",
       "      <td>33397</td>\n",
       "      <td>проезд. Коломенский, д. 8, к. 1, Москва</td>\n",
       "      <td>8462.30</td>\n",
       "      <td>1982</td>\n",
       "      <td>0</td>\n",
       "      <td>2.0</td>\n",
       "      <td>128.0</td>\n",
       "    </tr>\n",
       "    <tr>\n",
       "      <th>33397</th>\n",
       "      <td>33398</td>\n",
       "      <td>ш. Хорошевское, д. 68, к. 4, Москва</td>\n",
       "      <td>3811.00</td>\n",
       "      <td>1962</td>\n",
       "      <td>0</td>\n",
       "      <td>5.0</td>\n",
       "      <td>73.0</td>\n",
       "    </tr>\n",
       "  </tbody>\n",
       "</table>\n",
       "<p>33398 rows × 7 columns</p>\n",
       "</div>"
      ],
      "text/plain": [
       "          id                                       address     square  year  \\\n",
       "0          1           пр-кт. Мира, д. 188 Б, к. 1, Москва   54804.10  2014   \n",
       "1          2            пр-кт. Мира, д. 188Б, к. 3, Москва   53253.20  2015   \n",
       "2          3                 пер. Чапаевский, д. 3, Москва  256740.60  2006   \n",
       "3          4              ул. Мосфильмовская, д. 8, Москва  137500.80  2011   \n",
       "4          5             ул. Мосфильмовская, д. 70, Москва  341272.69  2006   \n",
       "...      ...                                           ...        ...   ...   \n",
       "33393  33394          ул. Оренбургская, д. 5, к. 4, Москва     107.10  1954   \n",
       "33394  33395  г. Зеленоград, проезд. 6537-й, д. 21, Москва     469.00  2009   \n",
       "33395  33396                 ул. Спортивная, д. 10, Москва     133.00  1940   \n",
       "33396  33397       проезд. Коломенский, д. 8, к. 1, Москва    8462.30  1982   \n",
       "33397  33398           ш. Хорошевское, д. 68, к. 4, Москва    3811.00  1962   \n",
       "\n",
       "       floors  entrances   rooms  \n",
       "0          58        1.0   370.0  \n",
       "1          58        1.0   356.0  \n",
       "2          57       14.0   992.0  \n",
       "3          53        2.0   564.0  \n",
       "4          50        7.0  1046.0  \n",
       "...       ...        ...     ...  \n",
       "33393       1        NaN     2.0  \n",
       "33394       1        NaN     NaN  \n",
       "33395       1        NaN     NaN  \n",
       "33396       0        2.0   128.0  \n",
       "33397       0        5.0    73.0  \n",
       "\n",
       "[33398 rows x 7 columns]"
      ]
     },
     "execution_count": 63,
     "metadata": {},
     "output_type": "execute_result"
    }
   ],
   "source": [
    "housesDf = psql.read_sql('SELECT * FROM houses', connection)\n",
    "housesDf"
   ]
  },
  {
   "cell_type": "code",
   "execution_count": 62,
   "metadata": {},
   "outputs": [
    {
     "name": "stdout",
     "output_type": "stream",
     "text": [
      "('schema_migrations',)\n",
      "('ar_internal_metadata',)\n",
      "('active_storage_blobs',)\n",
      "('active_storage_attachments',)\n",
      "('mos_kiosks',)\n",
      "('mos_shopping_facilities',)\n",
      "('mos_multifunctional_centers',)\n",
      "('mos_libraries',)\n",
      "('mos_culture_houses',)\n",
      "('mos_datasets',)\n",
      "('vacuum_cleaner_statuses',)\n",
      "('houses',)\n",
      "('mos_rows',)\n",
      "('mos_sports_facilities',)\n",
      "('areas',)\n",
      "('districts',)\n",
      "('active_storage_variant_records',)\n",
      "('automatic_post_offices',)\n",
      "('placement_object_types',)\n"
     ]
    }
   ],
   "source": [
    "cursor.execute(\"\"\"SELECT table_name FROM information_schema.tables WHERE table_schema = 'public'\"\"\")\n",
    "for table in cursor.fetchall():\n",
    "    print(table)"
   ]
  },
  {
   "cell_type": "code",
   "execution_count": 4,
   "metadata": {},
   "outputs": [],
   "source": [
    "ostanovki = rowsDf.copy()"
   ]
  },
  {
   "cell_type": "code",
   "execution_count": 22,
   "metadata": {},
   "outputs": [
    {
     "data": {
      "text/plain": [
       "35"
      ]
     },
     "execution_count": 22,
     "metadata": {},
     "output_type": "execute_result"
    }
   ],
   "source": [
    "check_polygon(ostanovki.loc[0]['data'])"
   ]
  },
  {
   "cell_type": "code",
   "execution_count": 23,
   "metadata": {},
   "outputs": [],
   "source": [
    "ostanovki['area_id'] = ostanovki['data'].apply(check_polygon)"
   ]
  },
  {
   "cell_type": "code",
   "execution_count": null,
   "metadata": {},
   "outputs": [],
   "source": []
  },
  {
   "cell_type": "code",
   "execution_count": 32,
   "metadata": {},
   "outputs": [
    {
     "data": {
      "text/plain": [
       "(58, 6)"
      ]
     },
     "execution_count": 32,
     "metadata": {},
     "output_type": "execute_result"
    }
   ],
   "source": [
    "zamOstDf.shape"
   ]
  },
  {
   "cell_type": "code",
   "execution_count": 34,
   "metadata": {},
   "outputs": [
    {
     "data": {
      "text/plain": [
       "(33, 12)"
      ]
     },
     "execution_count": 34,
     "metadata": {},
     "output_type": "execute_result"
    }
   ],
   "source": [
    "zamDf.shape"
   ]
  },
  {
   "cell_type": "code",
   "execution_count": 35,
   "metadata": {},
   "outputs": [
    {
     "data": {
      "text/plain": [
       "'/Users/timofeykamenetskiy/Desktop/lct2022'"
      ]
     },
     "execution_count": 35,
     "metadata": {},
     "output_type": "execute_result"
    }
   ],
   "source": [
    "pwd"
   ]
  },
  {
   "cell_type": "code",
   "execution_count": 30,
   "metadata": {},
   "outputs": [],
   "source": [
    "zamOstDf = ostanovki.loc[ostanovki['area_id'] == 30]"
   ]
  },
  {
   "cell_type": "code",
   "execution_count": null,
   "metadata": {},
   "outputs": [],
   "source": []
  },
  {
   "cell_type": "code",
   "execution_count": 40,
   "metadata": {},
   "outputs": [],
   "source": [
    "zamDf = pd.read_csv('data/zamosk.csv')"
   ]
  },
  {
   "cell_type": "code",
   "execution_count": 41,
   "metadata": {},
   "outputs": [
    {
     "data": {
      "text/plain": [
       "(131, 12)"
      ]
     },
     "execution_count": 41,
     "metadata": {},
     "output_type": "execute_result"
    }
   ],
   "source": [
    "zamDf.shape"
   ]
  },
  {
   "cell_type": "code",
   "execution_count": 49,
   "metadata": {},
   "outputs": [
    {
     "data": {
      "text/plain": [
       "[37.62770898, 55.72210574]"
      ]
     },
     "execution_count": 49,
     "metadata": {},
     "output_type": "execute_result"
    }
   ],
   "source": [
    "zamOstDf.loc[680]['data']['geoData']['coordinates']"
   ]
  },
  {
   "cell_type": "code",
   "execution_count": 50,
   "metadata": {},
   "outputs": [],
   "source": [
    "def get_coord(string):\n",
    "    return string['geoData']['coordinates']"
   ]
  },
  {
   "cell_type": "code",
   "execution_count": 51,
   "metadata": {
    "scrolled": true
   },
   "outputs": [
    {
     "name": "stderr",
     "output_type": "stream",
     "text": [
      "/usr/local/lib/python3.7/site-packages/ipykernel_launcher.py:1: SettingWithCopyWarning: \n",
      "A value is trying to be set on a copy of a slice from a DataFrame.\n",
      "Try using .loc[row_indexer,col_indexer] = value instead\n",
      "\n",
      "See the caveats in the documentation: https://pandas.pydata.org/pandas-docs/stable/user_guide/indexing.html#returning-a-view-versus-a-copy\n",
      "  \"\"\"Entry point for launching an IPython kernel.\n"
     ]
    }
   ],
   "source": [
    "zamOstDf['coordinates'] = zamOstDf['data'].apply(get_coord)"
   ]
  },
  {
   "cell_type": "code",
   "execution_count": 58,
   "metadata": {},
   "outputs": [
    {
     "data": {
      "text/plain": [
       "'/Users/timofeykamenetskiy/Desktop/lct2022'"
      ]
     },
     "execution_count": 58,
     "metadata": {},
     "output_type": "execute_result"
    }
   ],
   "source": [
    "pwd"
   ]
  },
  {
   "cell_type": "code",
   "execution_count": 57,
   "metadata": {},
   "outputs": [],
   "source": [
    "zamOstDf.to_csv('data/zamosk_ost.csv')"
   ]
  },
  {
   "cell_type": "code",
   "execution_count": 53,
   "metadata": {},
   "outputs": [
    {
     "data": {
      "text/html": [
       "<div>\n",
       "<style scoped>\n",
       "    .dataframe tbody tr th:only-of-type {\n",
       "        vertical-align: middle;\n",
       "    }\n",
       "\n",
       "    .dataframe tbody tr th {\n",
       "        vertical-align: top;\n",
       "    }\n",
       "\n",
       "    .dataframe thead th {\n",
       "        text-align: right;\n",
       "    }\n",
       "</style>\n",
       "<table border=\"1\" class=\"dataframe\">\n",
       "  <thead>\n",
       "    <tr style=\"text-align: right;\">\n",
       "      <th></th>\n",
       "      <th>id</th>\n",
       "      <th>global_id</th>\n",
       "      <th>geo_data</th>\n",
       "      <th>mos_dataset_id</th>\n",
       "      <th>data</th>\n",
       "      <th>area_id</th>\n",
       "      <th>coordinates</th>\n",
       "    </tr>\n",
       "  </thead>\n",
       "  <tbody>\n",
       "    <tr>\n",
       "      <th>680</th>\n",
       "      <td>1009078</td>\n",
       "      <td>833046185</td>\n",
       "      <td>{'type': 'Point', 'coordinates': [37.62770898,...</td>\n",
       "      <td>60662</td>\n",
       "      <td>{'Street': '', 'geoData': {'type': 'Point', 'c...</td>\n",
       "      <td>30.0</td>\n",
       "      <td>[37.62770898, 55.72210574]</td>\n",
       "    </tr>\n",
       "    <tr>\n",
       "      <th>681</th>\n",
       "      <td>1009079</td>\n",
       "      <td>833046186</td>\n",
       "      <td>{'type': 'Point', 'coordinates': [37.62622664,...</td>\n",
       "      <td>60662</td>\n",
       "      <td>{'Street': '', 'geoData': {'type': 'Point', 'c...</td>\n",
       "      <td>30.0</td>\n",
       "      <td>[37.62622664, 55.72499391]</td>\n",
       "    </tr>\n",
       "    <tr>\n",
       "      <th>688</th>\n",
       "      <td>1009086</td>\n",
       "      <td>833046193</td>\n",
       "      <td>{'type': 'Point', 'coordinates': [37.62219435,...</td>\n",
       "      <td>60662</td>\n",
       "      <td>{'Street': '', 'geoData': {'type': 'Point', 'c...</td>\n",
       "      <td>30.0</td>\n",
       "      <td>[37.62219435, 55.72263741]</td>\n",
       "    </tr>\n",
       "    <tr>\n",
       "      <th>1508</th>\n",
       "      <td>1009908</td>\n",
       "      <td>833047412</td>\n",
       "      <td>{'type': 'Point', 'coordinates': [37.62496846,...</td>\n",
       "      <td>60662</td>\n",
       "      <td>{'Street': '', 'geoData': {'type': 'Point', 'c...</td>\n",
       "      <td>30.0</td>\n",
       "      <td>[37.62496846, 55.72959896]</td>\n",
       "    </tr>\n",
       "    <tr>\n",
       "      <th>1786</th>\n",
       "      <td>1010186</td>\n",
       "      <td>833047786</td>\n",
       "      <td>{'type': 'Point', 'coordinates': [37.63462863,...</td>\n",
       "      <td>60662</td>\n",
       "      <td>{'Street': '', 'geoData': {'type': 'Point', 'c...</td>\n",
       "      <td>30.0</td>\n",
       "      <td>[37.63462863, 55.74430251]</td>\n",
       "    </tr>\n",
       "  </tbody>\n",
       "</table>\n",
       "</div>"
      ],
      "text/plain": [
       "           id  global_id                                           geo_data  \\\n",
       "680   1009078  833046185  {'type': 'Point', 'coordinates': [37.62770898,...   \n",
       "681   1009079  833046186  {'type': 'Point', 'coordinates': [37.62622664,...   \n",
       "688   1009086  833046193  {'type': 'Point', 'coordinates': [37.62219435,...   \n",
       "1508  1009908  833047412  {'type': 'Point', 'coordinates': [37.62496846,...   \n",
       "1786  1010186  833047786  {'type': 'Point', 'coordinates': [37.63462863,...   \n",
       "\n",
       "      mos_dataset_id                                               data  \\\n",
       "680            60662  {'Street': '', 'geoData': {'type': 'Point', 'c...   \n",
       "681            60662  {'Street': '', 'geoData': {'type': 'Point', 'c...   \n",
       "688            60662  {'Street': '', 'geoData': {'type': 'Point', 'c...   \n",
       "1508           60662  {'Street': '', 'geoData': {'type': 'Point', 'c...   \n",
       "1786           60662  {'Street': '', 'geoData': {'type': 'Point', 'c...   \n",
       "\n",
       "      area_id                 coordinates  \n",
       "680      30.0  [37.62770898, 55.72210574]  \n",
       "681      30.0  [37.62622664, 55.72499391]  \n",
       "688      30.0  [37.62219435, 55.72263741]  \n",
       "1508     30.0  [37.62496846, 55.72959896]  \n",
       "1786     30.0  [37.63462863, 55.74430251]  "
      ]
     },
     "execution_count": 53,
     "metadata": {},
     "output_type": "execute_result"
    }
   ],
   "source": [
    "zamOstDf.head()"
   ]
  },
  {
   "cell_type": "code",
   "execution_count": 54,
   "metadata": {},
   "outputs": [
    {
     "data": {
      "text/html": [
       "<div>\n",
       "<style scoped>\n",
       "    .dataframe tbody tr th:only-of-type {\n",
       "        vertical-align: middle;\n",
       "    }\n",
       "\n",
       "    .dataframe tbody tr th {\n",
       "        vertical-align: top;\n",
       "    }\n",
       "\n",
       "    .dataframe thead th {\n",
       "        text-align: right;\n",
       "    }\n",
       "</style>\n",
       "<table border=\"1\" class=\"dataframe\">\n",
       "  <thead>\n",
       "    <tr style=\"text-align: right;\">\n",
       "      <th></th>\n",
       "      <th>№ - ТОП</th>\n",
       "      <th>№</th>\n",
       "      <th>Адрес</th>\n",
       "      <th>Площадь м2</th>\n",
       "      <th>Год</th>\n",
       "      <th>Этажей</th>\n",
       "      <th>Подьездов</th>\n",
       "      <th>Помещений / Квартир</th>\n",
       "      <th>улица</th>\n",
       "      <th>дом</th>\n",
       "      <th>coordinates</th>\n",
       "      <th>area_id</th>\n",
       "    </tr>\n",
       "  </thead>\n",
       "  <tbody>\n",
       "    <tr>\n",
       "      <th>0</th>\n",
       "      <td>NaN</td>\n",
       "      <td>19566.0</td>\n",
       "      <td>ул. Мытная, д. 7, стр. 2, Москва</td>\n",
       "      <td>9237.80</td>\n",
       "      <td>2013</td>\n",
       "      <td>17</td>\n",
       "      <td>1</td>\n",
       "      <td>64</td>\n",
       "      <td>улица+Мытная</td>\n",
       "      <td>7</td>\n",
       "      <td>[37.617479, 55.7223742]</td>\n",
       "      <td>30.0</td>\n",
       "    </tr>\n",
       "    <tr>\n",
       "      <th>1</th>\n",
       "      <td>NaN</td>\n",
       "      <td>1044.0</td>\n",
       "      <td>пер. Щипковский 1-й, д. 30, Москва</td>\n",
       "      <td>Не заполнено</td>\n",
       "      <td>Не заполнено</td>\n",
       "      <td>Не заполнено</td>\n",
       "      <td>NaN</td>\n",
       "      <td>NaN</td>\n",
       "      <td>пер.+Щипковский+1-й</td>\n",
       "      <td>1-й</td>\n",
       "      <td>[37.6320889, 55.7235854]</td>\n",
       "      <td>30.0</td>\n",
       "    </tr>\n",
       "    <tr>\n",
       "      <th>2</th>\n",
       "      <td>NaN</td>\n",
       "      <td>2815.0</td>\n",
       "      <td>пер. Монетчиковский 4-й, д. 1/6, стр. 1, Москва</td>\n",
       "      <td>Не заполнено</td>\n",
       "      <td>Не заполнено</td>\n",
       "      <td>Не заполнено</td>\n",
       "      <td>Не указано</td>\n",
       "      <td>Не указано</td>\n",
       "      <td>пер.+Монетчиковский+4-й</td>\n",
       "      <td>4-й</td>\n",
       "      <td>[37.6306918, 55.7331602]</td>\n",
       "      <td>30.0</td>\n",
       "    </tr>\n",
       "    <tr>\n",
       "      <th>3</th>\n",
       "      <td>NaN</td>\n",
       "      <td>6672.0</td>\n",
       "      <td>ул. Пионерская Б., д. 20, Москва</td>\n",
       "      <td>Не заполнено</td>\n",
       "      <td>Не заполнено</td>\n",
       "      <td>Не заполнено</td>\n",
       "      <td>NaN</td>\n",
       "      <td>NaN</td>\n",
       "      <td>улица+Пионерская+Б.</td>\n",
       "      <td>20</td>\n",
       "      <td>[37.6357476, 55.7276483]</td>\n",
       "      <td>30.0</td>\n",
       "    </tr>\n",
       "    <tr>\n",
       "      <th>4</th>\n",
       "      <td>NaN</td>\n",
       "      <td>7165.0</td>\n",
       "      <td>пер. Овчинниковский Б., д. 26, стр. 2, Москва</td>\n",
       "      <td>Не заполнено</td>\n",
       "      <td>Не заполнено</td>\n",
       "      <td>Не заполнено</td>\n",
       "      <td>NaN</td>\n",
       "      <td>NaN</td>\n",
       "      <td>пер.+Овчинниковский+Б.</td>\n",
       "      <td>26</td>\n",
       "      <td>[37.6299993, 55.7435662]</td>\n",
       "      <td>30.0</td>\n",
       "    </tr>\n",
       "  </tbody>\n",
       "</table>\n",
       "</div>"
      ],
      "text/plain": [
       "   № - ТОП        №                                            Адрес  \\\n",
       "0      NaN  19566.0                 ул. Мытная, д. 7, стр. 2, Москва   \n",
       "1      NaN   1044.0               пер. Щипковский 1-й, д. 30, Москва   \n",
       "2      NaN   2815.0  пер. Монетчиковский 4-й, д. 1/6, стр. 1, Москва   \n",
       "3      NaN   6672.0                 ул. Пионерская Б., д. 20, Москва   \n",
       "4      NaN   7165.0    пер. Овчинниковский Б., д. 26, стр. 2, Москва   \n",
       "\n",
       "     Площадь м2           Год        Этажей   Подьездов Помещений / Квартир  \\\n",
       "0       9237.80          2013            17           1                  64   \n",
       "1  Не заполнено  Не заполнено  Не заполнено         NaN                 NaN   \n",
       "2  Не заполнено  Не заполнено  Не заполнено  Не указано          Не указано   \n",
       "3  Не заполнено  Не заполнено  Не заполнено         NaN                 NaN   \n",
       "4  Не заполнено  Не заполнено  Не заполнено         NaN                 NaN   \n",
       "\n",
       "                     улица  дом               coordinates  area_id  \n",
       "0             улица+Мытная    7   [37.617479, 55.7223742]     30.0  \n",
       "1      пер.+Щипковский+1-й  1-й  [37.6320889, 55.7235854]     30.0  \n",
       "2  пер.+Монетчиковский+4-й  4-й  [37.6306918, 55.7331602]     30.0  \n",
       "3      улица+Пионерская+Б.   20  [37.6357476, 55.7276483]     30.0  \n",
       "4   пер.+Овчинниковский+Б.   26  [37.6299993, 55.7435662]     30.0  "
      ]
     },
     "execution_count": 54,
     "metadata": {},
     "output_type": "execute_result"
    }
   ],
   "source": [
    "zamDf.head()"
   ]
  },
  {
   "cell_type": "code",
   "execution_count": 55,
   "metadata": {},
   "outputs": [
    {
     "name": "stdout",
     "output_type": "stream",
     "text": [
      "131\n"
     ]
    }
   ],
   "source": [
    "print(zamDf.shape[0])"
   ]
  },
  {
   "cell_type": "code",
   "execution_count": 56,
   "metadata": {},
   "outputs": [
    {
     "name": "stdout",
     "output_type": "stream",
     "text": [
      "58\n"
     ]
    }
   ],
   "source": [
    "print(zamOstDf.shape[0])"
   ]
  },
  {
   "cell_type": "code",
   "execution_count": 18,
   "metadata": {},
   "outputs": [],
   "source": [
    "areasDf = psql.read_sql('SELECT * FROM areas', connection)\n",
    "areasDf['polygon'] = areasDf['polygon'].apply(ast.literal_eval)"
   ]
  },
  {
   "cell_type": "code",
   "execution_count": 20,
   "metadata": {},
   "outputs": [],
   "source": [
    "def check_polygon(string):\n",
    "    string = string['geoData']['coordinates']\n",
    "    if (string != '0') and (string != 0):\n",
    "        point = Point(string)\n",
    "        for index, row in areasDf.iterrows():\n",
    "            if row['polygon_type'] == 0:\n",
    "                tmpPolygon = Polygon(row['polygon'][0])\n",
    "                if tmpPolygon.contains(point) == True:\n",
    "                    return row['id']\n",
    "            else:\n",
    "                for pol in row['polygon']:\n",
    "                    tmpPolygon = Polygon(pol)\n",
    "                    if tmpPolygon.contains(point) == True:\n",
    "                        return row['id']\n",
    "    else:\n",
    "        return -1"
   ]
  },
  {
   "cell_type": "code",
   "execution_count": 6,
   "metadata": {},
   "outputs": [],
   "source": [
    "def check_polygon(string):\n",
    "    if string['type'] == 'Point':\n",
    "        point = Point(string['coordinates'])\n",
    "        for index, row in areasDf.iterrows():\n",
    "            if row['polygon_type'] == 0:\n",
    "                tmpPolygon = Polygon(row['polygon'][0])\n",
    "                if tmpPolygon.contains(point) == True:\n",
    "                    return row['id']\n",
    "            else:\n",
    "                for pol in row['polygon']:\n",
    "                    tmpPolygon = Polygon(pol)\n",
    "                    if tmpPolygon.contains(point) == True:\n",
    "                        return row['id']\n",
    "    return -1"
   ]
  },
  {
   "cell_type": "code",
   "execution_count": 19,
   "metadata": {},
   "outputs": [
    {
     "data": {
      "text/plain": [
       "35"
      ]
     },
     "execution_count": 19,
     "metadata": {},
     "output_type": "execute_result"
    }
   ],
   "source": [
    "check_polygon(ostanovki.loc[0]['data']['geoData']['coordinates'])"
   ]
  },
  {
   "cell_type": "code",
   "execution_count": null,
   "metadata": {},
   "outputs": [],
   "source": []
  },
  {
   "cell_type": "code",
   "execution_count": null,
   "metadata": {},
   "outputs": [],
   "source": []
  }
 ],
 "metadata": {
  "kernelspec": {
   "display_name": "Python 3",
   "language": "python",
   "name": "python3"
  },
  "language_info": {
   "codemirror_mode": {
    "name": "ipython",
    "version": 3
   },
   "file_extension": ".py",
   "mimetype": "text/x-python",
   "name": "python",
   "nbconvert_exporter": "python",
   "pygments_lexer": "ipython3",
   "version": "3.7.6"
  }
 },
 "nbformat": 4,
 "nbformat_minor": 4
}
