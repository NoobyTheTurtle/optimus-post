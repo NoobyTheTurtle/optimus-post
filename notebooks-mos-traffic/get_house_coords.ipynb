{
 "cells": [
  {
   "cell_type": "code",
   "execution_count": 1,
   "metadata": {},
   "outputs": [],
   "source": [
    "import pandas as pd\n",
    "import requests\n",
    "import json\n",
    "from shapely.geometry import Point\n",
    "from shapely.geometry.polygon import Polygon\n",
    "import psycopg2 as pg\n",
    "import pandas.io.sql as psql"
   ]
  },
  {
   "cell_type": "code",
   "execution_count": 2,
   "metadata": {},
   "outputs": [],
   "source": [
    "connection = pg.connect(\"host=188.72.109.162 dbname=optimus_post_db user=reader password=aboba\")\n",
    "cursor = connection.cursor()\n",
    "\n",
    "areasDf = psql.read_sql('SELECT * FROM areas', connection)\n",
    "housesDf = psql.read_sql('SELECT * FROM houses', connection)"
   ]
  },
  {
   "cell_type": "code",
   "execution_count": 3,
   "metadata": {},
   "outputs": [],
   "source": [
    "def get_street(string):\n",
    "    string = string[:string.find(',')]\n",
    "    if string[0] == 'г':\n",
    "        if string[1] == '.':\n",
    "            return '-1'\n",
    "    string = string.replace(' ', '+')\n",
    "    string = string.replace('пр-кт.', 'проспект')\n",
    "    string = string.replace('ул.', 'улица')\n",
    "    string = string.replace('ш.', 'шоссе')\n",
    "    string = string.replace('мкр.', 'микрорайон')\n",
    "    string = string.replace('наб.', 'набережная')\n",
    "    string = string.replace('б-р.', 'бульвар')\n",
    "    string = string.replace('п.', 'посёлок')\n",
    "    string = string.replace('проезд.', 'проезд')\n",
    "    string = string.replace('кв-л.', 'квартал')\n",
    "    if string.find('(') != -1:\n",
    "        string = string[:string.find('(')]\n",
    "    return string"
   ]
  },
  {
   "cell_type": "code",
   "execution_count": 4,
   "metadata": {},
   "outputs": [],
   "source": [
    "def get_korpus_number(string):\n",
    "    if string.find('к.') != -1:\n",
    "        string = string[string.find('к.') + 3:]\n",
    "        string = string[:string.find(',')]\n",
    "        return string\n",
    "    elif string.find('корпус') != -1:\n",
    "        string = string[string.find('к.') + 7:]\n",
    "        string = string[:string.find(',')]\n",
    "        return string\n",
    "    else:\n",
    "        return '-1'\n",
    "    "
   ]
  },
  {
   "cell_type": "code",
   "execution_count": 5,
   "metadata": {},
   "outputs": [],
   "source": [
    "def get_house_number(string):\n",
    "    korpus_num = get_korpus_number(string)\n",
    "    index = 0\n",
    "    for c in string:\n",
    "        if c.isdigit():\n",
    "            i = index\n",
    "            break\n",
    "        index += 1\n",
    "    string = string[index:]\n",
    "    index = 0\n",
    "    string = string[:string.find(',')]\n",
    "    string = string.replace(' ', '')\n",
    "    if korpus_num != '-1':\n",
    "        string += ',к.' + korpus_num\n",
    "    return string"
   ]
  },
  {
   "cell_type": "code",
   "execution_count": 9,
   "metadata": {},
   "outputs": [],
   "source": [
    "housesDf['улица'] = housesDf['address'].apply(get_street)\n",
    "housesDf['дом'] = housesDf['address'].apply(get_house_number)"
   ]
  },
  {
   "cell_type": "code",
   "execution_count": 12,
   "metadata": {},
   "outputs": [],
   "source": [
    "housesDf['coordinates'] = 0\n",
    "housesDf['coordinates'] = housesDf['coordinates'].astype(object)"
   ]
  },
  {
   "cell_type": "code",
   "execution_count": 67,
   "metadata": {},
   "outputs": [
    {
     "name": "stdout",
     "output_type": "stream",
     "text": [
      "30100\n",
      "30200\n",
      "30300\n",
      "30400\n",
      "30500\n",
      "30600\n",
      "30700\n",
      "30800\n",
      "30900\n",
      "31000\n",
      "31100\n",
      "31200\n",
      "31300\n",
      "31400\n",
      "31500\n",
      "31600\n",
      "31700\n",
      "31800\n",
      "31900\n",
      "32000\n",
      "32100\n",
      "32200\n",
      "32300\n",
      "32400\n",
      "32500\n",
      "32600\n",
      "32700\n",
      "32800\n",
      "32900\n",
      "33000\n",
      "33100\n",
      "33200\n",
      "33300\n"
     ]
    }
   ],
   "source": [
    "housesDf['coordinates'] = housesDf['coordinates'].astype(object)\n",
    "for street, house in zip(housesDf['улица'], housesDf['дом']):\n",
    "    if street != '-1' and street != -1:\n",
    "        url = 'https://nominatim.openstreetmap.org/search.php?city=Москва&street=' + street + '+' + house + '&limit=1&format=geojson'\n",
    "        r = requests.get(url)\n",
    "        tmp = r.json()\n",
    "        if len(tmp['features']) > 0:\n",
    "            housesDf.at[i, 'coordinates'] = tmp['features'][0]['geometry']['coordinates']\n",
    "    i += 1\n",
    "    if i % 100 == 0:\n",
    "        print(i)\n"
   ]
  },
  {
   "cell_type": "code",
   "execution_count": 68,
   "metadata": {},
   "outputs": [],
   "source": [
    "to_be_updated = pd.read_csv('data/houses_coord.csv')"
   ]
  },
  {
   "cell_type": "code",
   "execution_count": 69,
   "metadata": {},
   "outputs": [],
   "source": [
    "for i in range(to_be_updated.shape[0]):\n",
    "    to_be_updated.at[i, 'coordinates'] = housesDf.loc[i]['coordinates']"
   ]
  },
  {
   "cell_type": "code",
   "execution_count": 75,
   "metadata": {},
   "outputs": [],
   "source": [
    "to_be_updated.to_csv('data/houses_coord.csv', index=False)\n",
    "to_be_updated.to_csv('../data/houses_coord.csv', index=False)"
   ]
  }
 ],
 "metadata": {
  "kernelspec": {
   "display_name": "Python 3",
   "language": "python",
   "name": "python3"
  },
  "language_info": {
   "codemirror_mode": {
    "name": "ipython",
    "version": 3
   },
   "file_extension": ".py",
   "mimetype": "text/x-python",
   "name": "python",
   "nbconvert_exporter": "python",
   "pygments_lexer": "ipython3",
   "version": "3.7.6"
  }
 },
 "nbformat": 4,
 "nbformat_minor": 4
}
